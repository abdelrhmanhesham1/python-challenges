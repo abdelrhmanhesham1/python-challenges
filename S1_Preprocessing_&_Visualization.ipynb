{
  "nbformat": 4,
  "nbformat_minor": 0,
  "metadata": {
    "colab": {
      "provenance": [],
      "collapsed_sections": [
        "mNRTK_HdZDle"
      ],
      "include_colab_link": true
    },
    "kernelspec": {
      "name": "python3",
      "display_name": "Python 3"
    },
    "language_info": {
      "name": "python"
    }
  },
  "cells": [
    {
      "cell_type": "markdown",
      "metadata": {
        "id": "view-in-github",
        "colab_type": "text"
      },
      "source": [
        "<a href=\"https://colab.research.google.com/github/abdelrhmanhesham1/python-challenges/blob/main/S1_Preprocessing_%26_Visualization.ipynb\" target=\"_parent\"><img src=\"https://colab.research.google.com/assets/colab-badge.svg\" alt=\"Open In Colab\"/></a>"
      ]
    },
    {
      "cell_type": "markdown",
      "source": [
        "# Numpy Arrays"
      ],
      "metadata": {
        "id": "mNRTK_HdZDle"
      }
    },
    {
      "cell_type": "markdown",
      "source": [
        "Creating a 1D Numpy Array from a List"
      ],
      "metadata": {
        "id": "tMJxzHnbrpVR"
      }
    },
    {
      "cell_type": "code",
      "source": [
        "import numpy as np\n",
        "\n",
        "arr1 = np.array([1, 2, 3, 4, 5])\n",
        "print(arr1)  # Output: [1 2 3 4 5]\n"
      ],
      "metadata": {
        "colab": {
          "base_uri": "https://localhost:8080/"
        },
        "id": "GssiVwsgrpO5",
        "outputId": "18496b12-45dd-4431-a66d-ca5e4ffa1d2a"
      },
      "execution_count": 2,
      "outputs": [
        {
          "output_type": "stream",
          "name": "stdout",
          "text": [
            "[1 2 3 4 5]\n"
          ]
        }
      ]
    },
    {
      "cell_type": "markdown",
      "source": [
        "Creating a 2D Numpy Array from a List of Lists"
      ],
      "metadata": {
        "id": "mtb8P4gDruur"
      }
    },
    {
      "cell_type": "code",
      "source": [
        "arr2 = np.array([[1, 2, 3], [4, 5, 6]])\n",
        "print(arr2)  # Output: [[1 2 3]\n",
        "             #          [4 5 6]]"
      ],
      "metadata": {
        "colab": {
          "base_uri": "https://localhost:8080/"
        },
        "id": "9nMHksp8rupy",
        "outputId": "814f22d0-92ee-46fe-ce73-8a5bc04d0fd4"
      },
      "execution_count": 3,
      "outputs": [
        {
          "output_type": "stream",
          "name": "stdout",
          "text": [
            "[[1 2 3]\n",
            " [4 5 6]]\n"
          ]
        }
      ]
    },
    {
      "cell_type": "markdown",
      "source": [
        "Creating an Array of Zeros"
      ],
      "metadata": {
        "id": "x1rBlS5orx2m"
      }
    },
    {
      "cell_type": "code",
      "source": [
        "zeros = np.zeros((2, 3))\n",
        "print(zeros)  # Output: [[0. 0. 0.]\n",
        "              #          [0. 0. 0.]]\n"
      ],
      "metadata": {
        "colab": {
          "base_uri": "https://localhost:8080/"
        },
        "id": "61eJwSnLrxyq",
        "outputId": "f9daf6be-d5fe-4231-b907-2d37deafb316"
      },
      "execution_count": 4,
      "outputs": [
        {
          "output_type": "stream",
          "name": "stdout",
          "text": [
            "[[0. 0. 0.]\n",
            " [0. 0. 0.]]\n"
          ]
        }
      ]
    },
    {
      "cell_type": "markdown",
      "source": [
        "Creating an Array of Ones"
      ],
      "metadata": {
        "id": "-GTgbfKSrz4r"
      }
    },
    {
      "cell_type": "code",
      "source": [
        "ones = np.ones((3, 2))\n",
        "print(ones)  # Output: [[1. 1.]\n",
        "             #          [1. 1.]\n",
        "             #          [1. 1.]]\n"
      ],
      "metadata": {
        "colab": {
          "base_uri": "https://localhost:8080/"
        },
        "id": "4_HGXXKur0IX",
        "outputId": "a34aa9dc-28a1-4914-b408-3d5251ec4a60"
      },
      "execution_count": 5,
      "outputs": [
        {
          "output_type": "stream",
          "name": "stdout",
          "text": [
            "[[1. 1.]\n",
            " [1. 1.]\n",
            " [1. 1.]]\n"
          ]
        }
      ]
    },
    {
      "cell_type": "markdown",
      "source": [
        "Creating an Array with a Specific Range"
      ],
      "metadata": {
        "id": "OzR2Pt1Mr2JQ"
      }
    },
    {
      "cell_type": "code",
      "source": [
        "range_array = np.arange(10)\n",
        "print(range_array)  # Output: [0 1 2 3 4 5 6 7 8 9]\n"
      ],
      "metadata": {
        "colab": {
          "base_uri": "https://localhost:8080/"
        },
        "id": "1mMRe2w2r2C1",
        "outputId": "1b88e814-9542-409d-8078-46b5c5f7f8bf"
      },
      "execution_count": 6,
      "outputs": [
        {
          "output_type": "stream",
          "name": "stdout",
          "text": [
            "[0 1 2 3 4 5 6 7 8 9]\n"
          ]
        }
      ]
    },
    {
      "cell_type": "markdown",
      "source": [
        "Creating an Array with a Range of Values and Specific Step Size"
      ],
      "metadata": {
        "id": "e3zCYFgCr38j"
      }
    },
    {
      "cell_type": "code",
      "source": [
        "range_step = np.arange(0, 10, 2)\n",
        "print(range_step)  # Output: [0 2 4 6 8]\n"
      ],
      "metadata": {
        "colab": {
          "base_uri": "https://localhost:8080/"
        },
        "id": "AiPeW1hrr47z",
        "outputId": "4f7f8bc6-87d6-4854-b576-70b5713a123f"
      },
      "execution_count": 7,
      "outputs": [
        {
          "output_type": "stream",
          "name": "stdout",
          "text": [
            "[0 2 4 6 8]\n"
          ]
        }
      ]
    },
    {
      "cell_type": "markdown",
      "source": [
        "Creating an Array of Evenly Spaced Values Between Two Numbers"
      ],
      "metadata": {
        "id": "NmOfLgdysj9n"
      }
    },
    {
      "cell_type": "code",
      "source": [
        "linspace_array = np.linspace(0, 1, 5)\n",
        "print(linspace_array)  # Output: [0.   0.25 0.5  0.75 1.  ]\n"
      ],
      "metadata": {
        "colab": {
          "base_uri": "https://localhost:8080/"
        },
        "id": "saoZohuOsjtR",
        "outputId": "c6ab3109-5680-49d4-8f02-7e3e60bad56b"
      },
      "execution_count": 8,
      "outputs": [
        {
          "output_type": "stream",
          "name": "stdout",
          "text": [
            "[0.   0.25 0.5  0.75 1.  ]\n"
          ]
        }
      ]
    },
    {
      "cell_type": "markdown",
      "source": [
        "Creating an Array with Random Values Between 0 and 1\n"
      ],
      "metadata": {
        "id": "8IumO7awsmaz"
      }
    },
    {
      "cell_type": "code",
      "source": [
        "random_array = np.random.rand(3, 3)\n",
        "print(random_array)\n"
      ],
      "metadata": {
        "colab": {
          "base_uri": "https://localhost:8080/"
        },
        "id": "8SwiWV_asmWJ",
        "outputId": "0acb7b27-4601-4162-ac24-dc97cee832b5"
      },
      "execution_count": 9,
      "outputs": [
        {
          "output_type": "stream",
          "name": "stdout",
          "text": [
            "[[0.21945227 0.32852326 0.53214781]\n",
            " [0.6814448  0.81245541 0.93337112]\n",
            " [0.95063732 0.08383665 0.24471046]]\n"
          ]
        }
      ]
    },
    {
      "cell_type": "markdown",
      "source": [
        "Creating an Array with Random Integers"
      ],
      "metadata": {
        "id": "rxrPGSmjsoxC"
      }
    },
    {
      "cell_type": "code",
      "source": [
        "random_integers = np.random.randint(1, 10, (2, 2))\n",
        "print(random_integers)\n"
      ],
      "metadata": {
        "colab": {
          "base_uri": "https://localhost:8080/"
        },
        "id": "nnnFuczLso-o",
        "outputId": "d710a8bc-6e7c-4113-8cfd-4239ff5e7112"
      },
      "execution_count": 10,
      "outputs": [
        {
          "output_type": "stream",
          "name": "stdout",
          "text": [
            "[[8 9]\n",
            " [7 1]]\n"
          ]
        }
      ]
    },
    {
      "cell_type": "markdown",
      "source": [
        "Checking the Shape of an Array"
      ],
      "metadata": {
        "id": "9KE_8m91srWd"
      }
    },
    {
      "cell_type": "code",
      "source": [
        "arr = np.array([[1, 2, 3], [4, 5, 6]])\n",
        "print(arr.shape)  # Output: (2, 3)\n"
      ],
      "metadata": {
        "colab": {
          "base_uri": "https://localhost:8080/"
        },
        "id": "5SjNuOIXsrQN",
        "outputId": "5856fa27-b9aa-499a-a278-2d9cf6bcab40"
      },
      "execution_count": 11,
      "outputs": [
        {
          "output_type": "stream",
          "name": "stdout",
          "text": [
            "(2, 3)\n"
          ]
        }
      ]
    },
    {
      "cell_type": "markdown",
      "source": [
        "Accessing Data Type of Elements"
      ],
      "metadata": {
        "id": "M5UpNsGest-Z"
      }
    },
    {
      "cell_type": "code",
      "source": [
        "print(arr.dtype)  # Output: int64"
      ],
      "metadata": {
        "colab": {
          "base_uri": "https://localhost:8080/"
        },
        "id": "54WYLTBWst44",
        "outputId": "df5271b7-5c3b-4bc5-add3-427aacab470a"
      },
      "execution_count": 12,
      "outputs": [
        {
          "output_type": "stream",
          "name": "stdout",
          "text": [
            "int64\n"
          ]
        }
      ]
    },
    {
      "cell_type": "markdown",
      "source": [
        "Indexing a 1D Array"
      ],
      "metadata": {
        "id": "VwOEdip2swow"
      }
    },
    {
      "cell_type": "code",
      "source": [
        "arr = np.array([10, 20, 30, 40, 50])\n",
        "print(arr[0])  # Output: 10\n",
        "print(arr[-1])  # Output: 50\n"
      ],
      "metadata": {
        "colab": {
          "base_uri": "https://localhost:8080/"
        },
        "id": "CgAa99Omswkv",
        "outputId": "18556e87-9942-4da2-9943-4997022fccec"
      },
      "execution_count": 13,
      "outputs": [
        {
          "output_type": "stream",
          "name": "stdout",
          "text": [
            "10\n",
            "50\n"
          ]
        }
      ]
    },
    {
      "cell_type": "markdown",
      "source": [
        "Slicing a 1D Array"
      ],
      "metadata": {
        "id": "_CgIaoGYsy5R"
      }
    },
    {
      "cell_type": "code",
      "source": [
        "print(arr[1:4])  # Output: [20 30 40]\n"
      ],
      "metadata": {
        "colab": {
          "base_uri": "https://localhost:8080/"
        },
        "id": "S2YxH1Pfsy0p",
        "outputId": "de33d257-30e4-40aa-8a72-f7df0793bd92"
      },
      "execution_count": 14,
      "outputs": [
        {
          "output_type": "stream",
          "name": "stdout",
          "text": [
            "[20 30 40]\n"
          ]
        }
      ]
    },
    {
      "cell_type": "markdown",
      "source": [
        "Indexing a 2D Array"
      ],
      "metadata": {
        "id": "t9EpOrFWs1FL"
      }
    },
    {
      "cell_type": "code",
      "source": [
        "arr = np.array([[1, 2, 3], [4, 5, 6], [7, 8, 9]])\n",
        "print(arr[0, 2])  # Output: 3\n"
      ],
      "metadata": {
        "colab": {
          "base_uri": "https://localhost:8080/"
        },
        "id": "WUvbySp0s1UG",
        "outputId": "e72e0183-9de0-4916-ff44-5ebe894f840f"
      },
      "execution_count": 15,
      "outputs": [
        {
          "output_type": "stream",
          "name": "stdout",
          "text": [
            "3\n"
          ]
        }
      ]
    },
    {
      "cell_type": "markdown",
      "source": [
        "Slicing a 2D Array"
      ],
      "metadata": {
        "id": "_0KiE29ks4Gh"
      }
    },
    {
      "cell_type": "code",
      "source": [
        "print(arr[1:, 1:])  # Output: [[5 6]\n",
        "                    #          [8 9]]\n"
      ],
      "metadata": {
        "colab": {
          "base_uri": "https://localhost:8080/"
        },
        "id": "aktIcK66s3-M",
        "outputId": "b9cfd5b9-d440-4700-8f4a-6fac24ccbb8b"
      },
      "execution_count": 16,
      "outputs": [
        {
          "output_type": "stream",
          "name": "stdout",
          "text": [
            "[[5 6]\n",
            " [8 9]]\n"
          ]
        }
      ]
    },
    {
      "cell_type": "markdown",
      "source": [
        "Element-wise Addition"
      ],
      "metadata": {
        "id": "Mu8T9135s6cJ"
      }
    },
    {
      "cell_type": "code",
      "source": [
        "arr1 = np.array([1, 2, 3])\n",
        "arr2 = np.array([4, 5, 6])\n",
        "print(arr1 + arr2)  # Output: [5 7 9]\n"
      ],
      "metadata": {
        "colab": {
          "base_uri": "https://localhost:8080/"
        },
        "id": "E1Hycgmhs6XD",
        "outputId": "dbd731bb-bf3b-408e-ca17-fdb44a010fdc"
      },
      "execution_count": 17,
      "outputs": [
        {
          "output_type": "stream",
          "name": "stdout",
          "text": [
            "[5 7 9]\n"
          ]
        }
      ]
    },
    {
      "cell_type": "markdown",
      "source": [
        "Array Broadcasting"
      ],
      "metadata": {
        "id": "V_4Ij4I0s8yG"
      }
    },
    {
      "cell_type": "code",
      "source": [
        "arr = np.array([[1, 2, 3], [4, 5, 6]])\n",
        "print(arr + 10)  # Output: [[11 12 13]\n",
        "                 #          [14 15 16]]\n"
      ],
      "metadata": {
        "colab": {
          "base_uri": "https://localhost:8080/"
        },
        "id": "GPAxgNdLs8kY",
        "outputId": "5d2804d6-468a-4d59-f18c-70c2b251d1c3"
      },
      "execution_count": 18,
      "outputs": [
        {
          "output_type": "stream",
          "name": "stdout",
          "text": [
            "[[11 12 13]\n",
            " [14 15 16]]\n"
          ]
        }
      ]
    },
    {
      "cell_type": "markdown",
      "source": [
        "Matrix Multiplication"
      ],
      "metadata": {
        "id": "6V3aK1mRs_Hk"
      }
    },
    {
      "cell_type": "code",
      "source": [
        "arr1 = np.array([[1, 2], [3, 4]])\n",
        "arr2 = np.array([[5, 6], [7, 8]])\n",
        "print(np.dot(arr1, arr2))  # Output: [[19 22]\n",
        "                           #          [43 50]]\n"
      ],
      "metadata": {
        "colab": {
          "base_uri": "https://localhost:8080/"
        },
        "id": "g5YVHjKbs--t",
        "outputId": "cfc9fbb2-f39a-49d3-b8bc-41e3353deebf"
      },
      "execution_count": 19,
      "outputs": [
        {
          "output_type": "stream",
          "name": "stdout",
          "text": [
            "[[19 22]\n",
            " [43 50]]\n"
          ]
        }
      ]
    },
    {
      "cell_type": "markdown",
      "source": [
        "Calculating Mean and Sum"
      ],
      "metadata": {
        "id": "g5nSJFm-tBI-"
      }
    },
    {
      "cell_type": "code",
      "source": [
        "arr = np.array([1, 2, 3, 4, 5])\n",
        "print(np.mean(arr))  # Output: 3.0\n",
        "print(np.sum(arr))   # Output: 15\n"
      ],
      "metadata": {
        "colab": {
          "base_uri": "https://localhost:8080/"
        },
        "id": "og8pUM-WtBVo",
        "outputId": "d42251f3-1ffd-42a8-f323-2c61eb1c2cd6"
      },
      "execution_count": 20,
      "outputs": [
        {
          "output_type": "stream",
          "name": "stdout",
          "text": [
            "3.0\n",
            "15\n"
          ]
        }
      ]
    },
    {
      "cell_type": "markdown",
      "source": [
        "Finding Maximum and Minimum Values"
      ],
      "metadata": {
        "id": "JBe1C8AetDqK"
      }
    },
    {
      "cell_type": "code",
      "source": [
        "print(np.max(arr))  # Output: 5\n",
        "print(np.min(arr))  # Output: 1\n"
      ],
      "metadata": {
        "colab": {
          "base_uri": "https://localhost:8080/"
        },
        "id": "bdA82Io7tD2I",
        "outputId": "5aac2225-2fff-4c09-c1e1-f3f7d3f6b9d1"
      },
      "execution_count": 21,
      "outputs": [
        {
          "output_type": "stream",
          "name": "stdout",
          "text": [
            "5\n",
            "1\n"
          ]
        }
      ]
    },
    {
      "cell_type": "markdown",
      "source": [
        "# Practical Applications"
      ],
      "metadata": {
        "id": "IKyY2sXbZFFG"
      }
    },
    {
      "cell_type": "markdown",
      "source": [
        "Square Matrix"
      ],
      "metadata": {
        "id": "_o6DJZ_FyipE"
      }
    },
    {
      "cell_type": "code",
      "source": [
        "import numpy as np\n",
        "\n",
        "square_matrix = np.array([[1, 2, 3],\n",
        "                          [4, 2, 6],\n",
        "                          [7, 8, 9]])\n",
        "print(\"Square Matrix:\\n\", square_matrix)\n"
      ],
      "metadata": {
        "colab": {
          "base_uri": "https://localhost:8080/"
        },
        "id": "25As--eBZE_U",
        "outputId": "cc5b458a-eb20-45b9-8ee7-ced598d01389"
      },
      "execution_count": 22,
      "outputs": [
        {
          "output_type": "stream",
          "name": "stdout",
          "text": [
            "Square Matrix:\n",
            " [[1 2 3]\n",
            " [4 2 6]\n",
            " [7 8 9]]\n"
          ]
        }
      ]
    },
    {
      "cell_type": "markdown",
      "source": [
        "Diagonal Matrix"
      ],
      "metadata": {
        "id": "I0qaaEYLykuR"
      }
    },
    {
      "cell_type": "code",
      "source": [
        "diagonal_matrix = np.diag([1, 2, 3])\n",
        "print(\"Diagonal Matrix:\\n\", diagonal_matrix)\n"
      ],
      "metadata": {
        "colab": {
          "base_uri": "https://localhost:8080/"
        },
        "id": "MhDd9fASyjlP",
        "outputId": "5c612c83-b7e5-41c8-c0a4-0cd597419d3c"
      },
      "execution_count": 23,
      "outputs": [
        {
          "output_type": "stream",
          "name": "stdout",
          "text": [
            "Diagonal Matrix:\n",
            " [[1 0 0]\n",
            " [0 2 0]\n",
            " [0 0 3]]\n"
          ]
        }
      ]
    },
    {
      "cell_type": "markdown",
      "source": [
        "Identity Matrix"
      ],
      "metadata": {
        "id": "LzFelDnuym1z"
      }
    },
    {
      "cell_type": "code",
      "source": [
        "identity_matrix = np.eye(3)\n",
        "print(\"Identity Matrix:\\n\", identity_matrix)\n"
      ],
      "metadata": {
        "colab": {
          "base_uri": "https://localhost:8080/"
        },
        "id": "SKNAP96myluv",
        "outputId": "c68b2ad3-9358-401f-ff68-532db820fdcd"
      },
      "execution_count": 24,
      "outputs": [
        {
          "output_type": "stream",
          "name": "stdout",
          "text": [
            "Identity Matrix:\n",
            " [[1. 0. 0.]\n",
            " [0. 1. 0.]\n",
            " [0. 0. 1.]]\n"
          ]
        }
      ]
    },
    {
      "cell_type": "markdown",
      "source": [
        "Upper Triangular Matrix"
      ],
      "metadata": {
        "id": "MpvaFwcWyo5U"
      }
    },
    {
      "cell_type": "code",
      "source": [
        "upper_triangular = np.array([[1, 2, 3],\n",
        "                             [0, 5, 6],\n",
        "                             [0, 0, 9]])\n",
        "print(\"Upper Triangular Matrix:\\n\", upper_triangular)\n"
      ],
      "metadata": {
        "colab": {
          "base_uri": "https://localhost:8080/"
        },
        "id": "0a6hWSIrynzn",
        "outputId": "6fd733b0-d0f0-4e4a-fb09-f21bbbe4d919"
      },
      "execution_count": 25,
      "outputs": [
        {
          "output_type": "stream",
          "name": "stdout",
          "text": [
            "Upper Triangular Matrix:\n",
            " [[1 2 3]\n",
            " [0 5 6]\n",
            " [0 0 9]]\n"
          ]
        }
      ]
    },
    {
      "cell_type": "markdown",
      "source": [
        "Lower Triangular Matrix"
      ],
      "metadata": {
        "id": "0oEXEtmayq6W"
      }
    },
    {
      "cell_type": "code",
      "source": [
        "lower_triangular = np.array([[1, 0, 0],\n",
        "                             [4, 5, 0],\n",
        "                             [7, 8, 9]])\n",
        "print(\"Lower Triangular Matrix:\\n\", lower_triangular)\n"
      ],
      "metadata": {
        "colab": {
          "base_uri": "https://localhost:8080/"
        },
        "id": "sC0AXIzyypwH",
        "outputId": "86996dd5-360a-4588-d461-6fc5e6964de2"
      },
      "execution_count": 26,
      "outputs": [
        {
          "output_type": "stream",
          "name": "stdout",
          "text": [
            "Lower Triangular Matrix:\n",
            " [[1 0 0]\n",
            " [4 5 0]\n",
            " [7 8 9]]\n"
          ]
        }
      ]
    },
    {
      "cell_type": "markdown",
      "source": [
        "Symmetric Matrix"
      ],
      "metadata": {
        "id": "s1kKKHy-ysxj"
      }
    },
    {
      "cell_type": "code",
      "source": [
        "symmetric_matrix = np.array([[1, 2, 3],\n",
        "                             [2, 5, 6],\n",
        "                             [3, 6, 9]])\n",
        "print(\"Symmetric Matrix:\\n\", symmetric_matrix)\n"
      ],
      "metadata": {
        "colab": {
          "base_uri": "https://localhost:8080/"
        },
        "id": "1nXU6j6-yryv",
        "outputId": "4a737b49-6a20-418b-8b02-e6de61d165e1"
      },
      "execution_count": 27,
      "outputs": [
        {
          "output_type": "stream",
          "name": "stdout",
          "text": [
            "Symmetric Matrix:\n",
            " [[1 2 3]\n",
            " [2 5 6]\n",
            " [3 6 9]]\n"
          ]
        }
      ]
    },
    {
      "cell_type": "markdown",
      "source": [
        "Transpose of a Matrix"
      ],
      "metadata": {
        "id": "KJ6Oh-utyvBs"
      }
    },
    {
      "cell_type": "code",
      "source": [
        "matrix = np.array([[1, 2, 3],\n",
        "                   [4, 5, 6]])\n",
        "transpose_matrix = np.transpose(matrix)\n",
        "print(\"Matrix:\\n\", matrix)\n",
        "print(\"Transpose of Matrix:\\n\", transpose_matrix)\n"
      ],
      "metadata": {
        "colab": {
          "base_uri": "https://localhost:8080/"
        },
        "id": "U8pAgZ66ytqf",
        "outputId": "d45c8c6e-a8ff-43f9-d09d-4cbd801d4e73"
      },
      "execution_count": 28,
      "outputs": [
        {
          "output_type": "stream",
          "name": "stdout",
          "text": [
            "Matrix:\n",
            " [[1 2 3]\n",
            " [4 5 6]]\n",
            "Transpose of Matrix:\n",
            " [[1 4]\n",
            " [2 5]\n",
            " [3 6]]\n"
          ]
        }
      ]
    },
    {
      "cell_type": "markdown",
      "source": [
        "Trace of a Matrix"
      ],
      "metadata": {
        "id": "cWiwaPx1yyAP"
      }
    },
    {
      "cell_type": "code",
      "source": [
        "matrix = np.array([[1, 2, 3],\n",
        "                   [4, 5, 6],\n",
        "                   [7, 8, 9]])\n",
        "trace = np.trace(matrix)\n",
        "print(\"Trace of Matrix:\", trace)\n"
      ],
      "metadata": {
        "colab": {
          "base_uri": "https://localhost:8080/"
        },
        "id": "OxPrVNtuyv63",
        "outputId": "0788a640-891d-4b48-f339-985c7c9340b2"
      },
      "execution_count": 29,
      "outputs": [
        {
          "output_type": "stream",
          "name": "stdout",
          "text": [
            "Trace of Matrix: 15\n"
          ]
        }
      ]
    },
    {
      "cell_type": "markdown",
      "source": [
        "Determinant of a Matrix"
      ],
      "metadata": {
        "id": "fJ5q-zCRy0az"
      }
    },
    {
      "cell_type": "code",
      "source": [
        "matrix = np.array([[4, 6],\n",
        "                   [3, 8]])\n",
        "determinant = np.linalg.det(matrix)\n",
        "print(\"Determinant of Matrix:\", determinant)\n"
      ],
      "metadata": {
        "colab": {
          "base_uri": "https://localhost:8080/"
        },
        "id": "TIFLugxJywfn",
        "outputId": "9523952e-9a0e-4f8d-f79c-8186793314b4"
      },
      "execution_count": 30,
      "outputs": [
        {
          "output_type": "stream",
          "name": "stdout",
          "text": [
            "Determinant of Matrix: 14.000000000000004\n"
          ]
        }
      ]
    },
    {
      "cell_type": "markdown",
      "source": [
        "Inverse of a Matrix"
      ],
      "metadata": {
        "id": "-GxYHSjhy2oF"
      }
    },
    {
      "cell_type": "code",
      "source": [
        "matrix = np.array([[1, 2],\n",
        "                   [3, 4]])\n",
        "inverse_matrix = np.linalg.inv(matrix)\n",
        "print(\"Inverse of Matrix:\\n\", inverse_matrix)\n"
      ],
      "metadata": {
        "colab": {
          "base_uri": "https://localhost:8080/"
        },
        "id": "BcI-eoiby1aH",
        "outputId": "4d91e4ff-d7ac-4e92-e0f7-f05be91f7625"
      },
      "execution_count": 31,
      "outputs": [
        {
          "output_type": "stream",
          "name": "stdout",
          "text": [
            "Inverse of Matrix:\n",
            " [[-2.   1. ]\n",
            " [ 1.5 -0.5]]\n"
          ]
        }
      ]
    },
    {
      "cell_type": "markdown",
      "source": [
        "Rank of a Matrix"
      ],
      "metadata": {
        "id": "GIDqUwhly4kS"
      }
    },
    {
      "cell_type": "code",
      "source": [
        "matrix = np.array([[1, 2, 3],\n",
        "                   [4, 5, 6],\n",
        "                   [7, 8, 9]])\n",
        "rank = np.linalg.matrix_rank(matrix)\n",
        "print(\"Rank of Matrix:\", rank)\n"
      ],
      "metadata": {
        "colab": {
          "base_uri": "https://localhost:8080/"
        },
        "id": "qvcCL4tqy3fI",
        "outputId": "f681c43b-f798-446e-d7f1-516d26c0c815"
      },
      "execution_count": 32,
      "outputs": [
        {
          "output_type": "stream",
          "name": "stdout",
          "text": [
            "Rank of Matrix: 2\n"
          ]
        }
      ]
    }
  ]
}