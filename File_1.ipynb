{
  "cells": [
    {
      "cell_type": "markdown",
      "metadata": {
        "id": "view-in-github",
        "colab_type": "text"
      },
      "source": [
        "<a href=\"https://colab.research.google.com/github/abdelrhmanhesham1/python-challenges/blob/main/File_1.ipynb\" target=\"_parent\"><img src=\"https://colab.research.google.com/assets/colab-badge.svg\" alt=\"Open In Colab\"/></a>"
      ]
    },
    {
      "cell_type": "code",
      "execution_count": null,
      "metadata": {
        "vscode": {
          "languageId": "plaintext"
        },
        "id": "-pWv1WCOd_iI"
      },
      "outputs": [],
      "source": [
        "# Practice\n",
        "# Enjoy^_^"
      ]
    },
    {
      "cell_type": "markdown",
      "metadata": {
        "id": "NGksaEied_ig"
      },
      "source": [
        "# 1. Python Flow Control"
      ]
    },
    {
      "cell_type": "markdown",
      "metadata": {
        "id": "6ICLMut1d_im"
      },
      "source": [
        "## 1. Write a Python program to find those numbers which are divisible by 7 and multiples of 5, between 1500 and 2700 (both included).\n",
        "\n",
        "\n",
        "\n"
      ]
    },
    {
      "cell_type": "code",
      "execution_count": null,
      "metadata": {
        "colab": {
          "base_uri": "https://localhost:8080/"
        },
        "id": "1t7fp-X4d_iq",
        "outputId": "f70b315b-986c-4f45-fafe-239d162e26e4"
      },
      "outputs": [
        {
          "output_type": "stream",
          "name": "stdout",
          "text": [
            "Numbers which are divisible by 7 and multiples of 5 between 1500 and 2700:\n",
            "[1505, 1540, 1575, 1610, 1645, 1680, 1715, 1750, 1785, 1820, 1855, 1890, 1925, 1960, 1995, 2030, 2065, 2100, 2135, 2170, 2205, 2240, 2275, 2310, 2345, 2380, 2415, 2450, 2485, 2520, 2555, 2590, 2625, 2660, 2695]\n"
          ]
        }
      ],
      "source": [
        "results = []\n",
        "\n",
        "for num in range(1500, 2701):\n",
        "    if num % 7 == 0 and num % 5 == 0:\n",
        "        results.append(num)\n",
        "\n",
        "print(\"Numbers which are divisible by 7 and multiples of 5 between 1500 and 2700:\")\n",
        "print(results)\n"
      ]
    },
    {
      "cell_type": "markdown",
      "metadata": {
        "id": "lvorYcozd_iz"
      },
      "source": [
        "## 2. Write a Python program to guess a number between 1 and 9.\n",
        "Note : User is prompted to enter a guess. If the user guesses wrong then the prompt appears again until the guess is correct, on successful guess, user will get a \"Well guessed!\" message, and the program will exit."
      ]
    },
    {
      "cell_type": "code",
      "execution_count": null,
      "metadata": {
        "colab": {
          "base_uri": "https://localhost:8080/"
        },
        "id": "NcFkWAUGd_i1",
        "outputId": "683029a4-cf23-4a14-b130-801d92994bba"
      },
      "outputs": [
        {
          "output_type": "stream",
          "name": "stdout",
          "text": [
            "Guess a number between 1 and 9: 4\n",
            "Guess a number between 1 and 9: 5\n",
            "Guess a number between 1 and 9: 6\n",
            "Well guessed!\n"
          ]
        }
      ],
      "source": [
        "import random\n",
        "\n",
        "# Generate a random number between 1 and 9\n",
        "correct_number = random.randint(1, 9)\n",
        "guess = 0  # Initialize guess to enter the loop\n",
        "\n",
        "while guess != correct_number:\n",
        "    guess = int(input(\"Guess a number between 1 and 9: \"))\n",
        "\n",
        "print(\"Well guessed!\")\n"
      ]
    },
    {
      "cell_type": "markdown",
      "metadata": {
        "id": "3UAWW1Eqd_i3"
      },
      "source": [
        "## 3. Write a Python program that prints all the numbers from 0 to 6 except 3 and 6.\n",
        "Note : Use 'continue' statement.\n",
        "Expected Output : 0 1 2 4 5\n"
      ]
    },
    {
      "cell_type": "markdown",
      "metadata": {
        "id": "7Y8ABjyOd_i5"
      },
      "source": [
        "## 4. Write a Python program to construct the following pattern, using a nested for loop.\n",
        "```\n",
        "*\n",
        "* *\n",
        "* * *\n",
        "* * * *\n",
        "* * * * *\n",
        "* * * *\n",
        "* * *\n",
        "* *\n",
        "*\n",
        "```"
      ]
    },
    {
      "cell_type": "code",
      "execution_count": null,
      "metadata": {
        "colab": {
          "base_uri": "https://localhost:8080/"
        },
        "id": "iePbsAP8d_i8",
        "outputId": "092be5b5-ed74-4c9e-e621-96bc628ba4bc"
      },
      "outputs": [
        {
          "output_type": "stream",
          "name": "stdout",
          "text": [
            "* \n",
            "* * \n",
            "* * * \n",
            "* * * * \n",
            "* * * * * \n",
            "* * * * \n",
            "* * * \n",
            "* * \n",
            "* \n"
          ]
        }
      ],
      "source": [
        "# Upper part of the pattern\n",
        "for i in range(1, 6):\n",
        "    print('* ' * i)\n",
        "\n",
        "# Lower part of the pattern\n",
        "for i in range(4, 0, -1):\n",
        "    print('* ' * i)\n"
      ]
    },
    {
      "cell_type": "code",
      "execution_count": null,
      "metadata": {
        "id": "Rhk2Ecuzd_i_",
        "outputId": "31ecc55d-f3ad-4f16-e3ea-3cbde32f01fe"
      },
      "outputs": [
        {
          "name": "stdout",
          "output_type": "stream",
          "text": [
            "         * \n",
            "        * * \n",
            "       * * * \n",
            "      * * * * \n",
            "     * * * * * \n",
            "    * * * * * * \n",
            "  * * * * * * * * \n",
            "   * * * * * * * \n",
            "    * * * * * * \n",
            "     * * * * * \n",
            "      * * * * \n",
            "       * * * \n",
            "        * * \n"
          ]
        }
      ],
      "source": []
    },
    {
      "cell_type": "markdown",
      "metadata": {
        "id": "cIzVLw7rd_jB"
      },
      "source": [
        "## 5. Write a Python program that accepts a word from the user and reverses it.\n",
        "\n"
      ]
    },
    {
      "cell_type": "markdown",
      "metadata": {
        "id": "D1oMfTyod_jD"
      },
      "source": [
        "## 6. Write a Python program to count the number of even and odd numbers in a series of numbers\n",
        "Sample numbers : numbers = (1, 2, 3, 4, 5, 6, 7, 8, 9)\n",
        "\n",
        "Expected Output :\n",
        "\n",
        "Number of even numbers : 4\n",
        "\n",
        "Number of odd numbers : 5"
      ]
    },
    {
      "cell_type": "code",
      "execution_count": null,
      "metadata": {
        "colab": {
          "base_uri": "https://localhost:8080/"
        },
        "id": "bCA03NoHd_jF",
        "outputId": "5a7cf855-ac44-457e-eef3-fcc73b00b3af"
      },
      "outputs": [
        {
          "output_type": "stream",
          "name": "stdout",
          "text": [
            "Number of even numbers: 4\n",
            "Number of odd numbers: 5\n"
          ]
        }
      ],
      "source": [
        "numbers = (1, 2, 3, 4, 5, 6, 7, 8, 9)\n",
        "\n",
        "even_count = 0\n",
        "odd_count = 0\n",
        "\n",
        "for num in numbers:\n",
        "    if num % 2 == 0:\n",
        "        even_count += 1\n",
        "    else:\n",
        "        odd_count += 1\n",
        "\n",
        "print(\"Number of even numbers:\", even_count)\n",
        "print(\"Number of odd numbers:\", odd_count)\n"
      ]
    },
    {
      "cell_type": "markdown",
      "metadata": {
        "id": "szrbAilDd_jH"
      },
      "source": [
        "## 7. Write a Python program to print the the first alphabet pattern 'A-Z' in your name .\n",
        "for example  Expected Output:\n",
        "\n",
        "\n",
        "```\n",
        "  ***                                                                   \n",
        " *   *                                                                  \n",
        " *   *                                                                  \n",
        " *****                                                                  \n",
        " *   *                                                                  \n",
        " *   *                                                                  \n",
        " *   *\n",
        "```"
      ]
    },
    {
      "cell_type": "code",
      "execution_count": null,
      "metadata": {
        "colab": {
          "base_uri": "https://localhost:8080/"
        },
        "id": "jpQ7zsrHd_jH",
        "outputId": "37155764-cc8e-45e9-8516-620db4dff9c1"
      },
      "outputs": [
        {
          "output_type": "stream",
          "name": "stdout",
          "text": [
            "  ***  \n",
            " *   * \n",
            " *   * \n",
            " ***** \n",
            " *   * \n",
            " *   * \n",
            " *   * \n"
          ]
        }
      ],
      "source": [
        "# Alphabet pattern for 'A'\n",
        "pattern = [\n",
        "    \"  ***  \",\n",
        "    \" *   * \",\n",
        "    \" *   * \",\n",
        "    \" ***** \",\n",
        "    \" *   * \",\n",
        "    \" *   * \",\n",
        "    \" *   * \"\n",
        "]\n",
        "\n",
        "# Printing the pattern\n",
        "for row in pattern:\n",
        "    print(row)\n"
      ]
    },
    {
      "cell_type": "markdown",
      "metadata": {
        "id": "pLNTyF3ud_jI"
      },
      "source": [
        "## 8.  Write a Python program to construct the following pattern, using a nested loop number.\n",
        "Expected Output:\n",
        "\n",
        "\n",
        "``\n",
        "1\n",
        "22\n",
        "333\n",
        "4444\n",
        "55555\n",
        "666666\n",
        "7777777\n",
        "88888888\n",
        "999999999\n",
        "``"
      ]
    },
    {
      "cell_type": "code",
      "execution_count": null,
      "metadata": {
        "colab": {
          "base_uri": "https://localhost:8080/"
        },
        "id": "qga2E1und_jJ",
        "outputId": "f97bfe8b-b040-4664-e5eb-2ea9b718183f"
      },
      "outputs": [
        {
          "output_type": "stream",
          "name": "stdout",
          "text": [
            "1 22 333 4444 55555 666666 7777777 88888888 999999999 "
          ]
        }
      ],
      "source": [
        "for i in range(1, 10):\n",
        "    print(str(i) * i, end=' ')\n"
      ]
    },
    {
      "cell_type": "markdown",
      "metadata": {
        "id": "5zoAnZu4d_jJ"
      },
      "source": [
        "## 9. Write a Python program to create the multiplication table (from 1 to 10) of a number.\n",
        "Expected Output:\n",
        "\n",
        "Input a number: 6                                                       \n",
        "6 x 1 = 6                                                               \n",
        "6 x 2 = 12                                                              \n",
        "6 x 3 = 18                                                              \n",
        "6 x 4 = 24                                                              \n",
        "6 x 5 = 30                                                              \n",
        "6 x 6 = 36                                                              \n",
        "6 x 7 = 42                                                              \n",
        "6 x 8 = 48                                                              \n",
        "6 x 9 = 54                                                              \n",
        "6 x 10 = 60\n"
      ]
    },
    {
      "cell_type": "code",
      "execution_count": null,
      "metadata": {
        "colab": {
          "base_uri": "https://localhost:8080/"
        },
        "id": "oL79cGMBd_jK",
        "outputId": "067dbe3e-7366-4a6b-8343-4c4fe6ee807b"
      },
      "outputs": [
        {
          "output_type": "stream",
          "name": "stdout",
          "text": [
            "Input a number: 5\n",
            "5 x 1 = 5\n",
            "5 x 2 = 10\n",
            "5 x 3 = 15\n",
            "5 x 4 = 20\n",
            "5 x 5 = 25\n",
            "5 x 6 = 30\n",
            "5 x 7 = 35\n",
            "5 x 8 = 40\n",
            "5 x 9 = 45\n",
            "5 x 10 = 50\n"
          ]
        }
      ],
      "source": [
        "# Taking input from the user\n",
        "number = int(input(\"Input a number: \"))\n",
        "\n",
        "# Loop to print the multiplication table\n",
        "for i in range(1, 11):\n",
        "    print(f\"{number} x {i} = {number * i}\")\n"
      ]
    },
    {
      "cell_type": "markdown",
      "metadata": {
        "id": "LT9s9rOnd_jL"
      },
      "source": [
        "## 10. Write a Python program to calculate the sum and average of n integer numbers (input from the user). Input 0 to finish."
      ]
    },
    {
      "cell_type": "code",
      "execution_count": null,
      "metadata": {
        "colab": {
          "base_uri": "https://localhost:8080/"
        },
        "id": "FqUCF4VJd_jM",
        "outputId": "1a0422d5-1069-4aa8-b9e2-71335e60fff7"
      },
      "outputs": [
        {
          "output_type": "stream",
          "name": "stdout",
          "text": [
            "Enter a number (0 to finish): 2\n",
            "Enter a number (0 to finish): 3\n",
            "Enter a number (0 to finish): 4\n",
            "Enter a number (0 to finish): 7\n",
            "Enter a number (0 to finish): 0\n",
            "Sum: 16\n",
            "Average: 4.0\n"
          ]
        }
      ],
      "source": [
        "# Initialize variables for sum and count of numbers\n",
        "total_sum = 0\n",
        "count = 0\n",
        "\n",
        "while True:\n",
        "    # Take input from the user\n",
        "    num = int(input(\"Enter a number (0 to finish): \"))\n",
        "\n",
        "    # Break the loop if the user enters 0\n",
        "    if num == 0:\n",
        "        break\n",
        "\n",
        "    # Add the number to the sum and increment the count\n",
        "    total_sum += num\n",
        "    count += 1\n",
        "\n",
        "# Calculate average if count is not zero\n",
        "if count > 0:\n",
        "    average = total_sum / count\n",
        "    print(\"Sum:\", total_sum)\n",
        "    print(\"Average:\", average)\n",
        "else:\n",
        "    print(\"No numbers were entered.\")\n"
      ]
    },
    {
      "cell_type": "markdown",
      "metadata": {
        "id": "wNxHe4v9d_jN"
      },
      "source": [
        "# 11-Python Program to Print the Fibonacci sequence\n",
        "\n",
        "The Fibonacci numbers are the numbers in the following integer sequence. 0, 1, 1, 2, 3, 5, 8, 13, 21, 34, 55, 89, 144, â€¦â€¦.. In mathematical terms, the sequence Fn of Fibonacci numbers is defined by the recurrence relation.\n",
        "\n",
        "\n",
        "![image.png](attachment:image.png)"
      ]
    },
    {
      "cell_type": "markdown",
      "metadata": {
        "id": "IOGJZIzNd_jS"
      },
      "source": [
        "# Finding the Maximum Value in a List"
      ]
    },
    {
      "cell_type": "code",
      "execution_count": null,
      "metadata": {
        "colab": {
          "base_uri": "https://localhost:8080/"
        },
        "id": "0w0BSL2ld_jU",
        "outputId": "ee55b9fd-ba16-4b76-ff8e-eaf1284c961f"
      },
      "outputs": [
        {
          "output_type": "stream",
          "name": "stdout",
          "text": [
            "The maximum value is: 50\n"
          ]
        }
      ],
      "source": [
        "numbers = [10, 20, 30, 40, 50]\n",
        "\n",
        "max_value = numbers[0]  # Assume the first element is the maximum initially\n",
        "\n",
        "for num in numbers:\n",
        "    if num > max_value:\n",
        "        max_value = num\n",
        "\n",
        "print(\"The maximum value is:\", max_value)\n"
      ]
    },
    {
      "cell_type": "markdown",
      "metadata": {
        "id": "-0E7-UKrd_ja"
      },
      "source": [
        "# Counting Vowels in a String"
      ]
    },
    {
      "cell_type": "code",
      "execution_count": null,
      "metadata": {
        "colab": {
          "base_uri": "https://localhost:8080/"
        },
        "id": "JsEO6NLTd_jb",
        "outputId": "e359389a-52fe-40a5-daa1-2154cd6e7029"
      },
      "outputs": [
        {
          "output_type": "stream",
          "name": "stdout",
          "text": [
            "Number of vowels: 7\n"
          ]
        }
      ],
      "source": [
        "string = \"Hello, how are you?\"\n",
        "\n",
        "vowel_count = 0\n",
        "\n",
        "for char in string:\n",
        "    if char in 'aeiouAEIOU':\n",
        "        vowel_count += 1\n",
        "\n",
        "print(\"Number of vowels:\", vowel_count)\n",
        "\n"
      ]
    },
    {
      "cell_type": "markdown",
      "metadata": {
        "id": "8mV-1YHtd_jc"
      },
      "source": [
        "# Finding Prime Numbers within a Range"
      ]
    },
    {
      "cell_type": "code",
      "execution_count": null,
      "metadata": {
        "colab": {
          "base_uri": "https://localhost:8080/"
        },
        "id": "KcQn0Sy7d_jc",
        "outputId": "06496459-6ed3-48da-9c41-0a89ac180141"
      },
      "outputs": [
        {
          "output_type": "stream",
          "name": "stdout",
          "text": [
            "11\n",
            "13\n",
            "17\n",
            "19\n",
            "23\n",
            "29\n",
            "31\n",
            "37\n",
            "41\n",
            "43\n",
            "47\n"
          ]
        }
      ],
      "source": [
        "start = 10  # Starting number of the range\n",
        "end = 50    # Ending number of the range\n",
        "\n",
        "for num in range(start, end + 1):\n",
        "    if num > 1:  # Prime numbers are greater than 1\n",
        "        is_prime = True\n",
        "        for i in range(2, num):\n",
        "            if num % i == 0:\n",
        "                is_prime = False\n",
        "                break\n",
        "        if is_prime:\n",
        "            print(num)\n"
      ]
    },
    {
      "cell_type": "markdown",
      "metadata": {
        "id": "TTKTFyA1d_jd"
      },
      "source": [
        "# A Program that Simulating a Basic ATM Withdrawal"
      ]
    },
    {
      "cell_type": "code",
      "execution_count": null,
      "metadata": {
        "colab": {
          "base_uri": "https://localhost:8080/"
        },
        "id": "6sDgFDLxd_jm",
        "outputId": "11358c15-75fb-4035-aa9c-5067a4e1b2dc"
      },
      "outputs": [
        {
          "output_type": "stream",
          "name": "stdout",
          "text": [
            "Enter PIN: 1234\n",
            "Enter amount to withdraw: 250\n",
            "Withdrawal successful. Balance is now: 750.0\n"
          ]
        }
      ],
      "source": [
        "# Initial balance and PIN\n",
        "balance = 1000\n",
        "pin = 1234\n",
        "\n",
        "# Ask for PIN\n",
        "user_pin = int(input(\"Enter PIN: \"))\n",
        "\n",
        "if user_pin == pin:\n",
        "    # Ask for withdrawal amount\n",
        "    amount = float(input(\"Enter amount to withdraw: \"))\n",
        "\n",
        "    if amount <= balance:\n",
        "        balance -= amount\n",
        "        print(\"Withdrawal successful. Balance is now:\", balance)\n",
        "    else:\n",
        "        print(\"Insufficient balance.\")\n",
        "else:\n",
        "    print(\"Incorrect PIN.\")\n"
      ]
    },
    {
      "cell_type": "markdown",
      "metadata": {
        "id": "ofNtjV4ad_jm"
      },
      "source": [
        "# Finding Common Elements in Two Lists"
      ]
    },
    {
      "cell_type": "code",
      "execution_count": null,
      "metadata": {
        "colab": {
          "base_uri": "https://localhost:8080/"
        },
        "id": "PVEq8MSxd_jn",
        "outputId": "3701793e-1fc2-4933-d8cc-53571fd66cca"
      },
      "outputs": [
        {
          "output_type": "stream",
          "name": "stdout",
          "text": [
            "Convert (C)elsius to Fahrenheit or (F)ahrenheit to Celsius: c\n",
            "Enter temperature in Celsius: 55\n",
            "131.0 °F\n"
          ]
        }
      ],
      "source": [
        "# Function to convert Celsius to Fahrenheit\n",
        "def celsius_to_fahrenheit(celsius):\n",
        "    return (celsius * 9/5) + 32\n",
        "\n",
        "# Function to convert Fahrenheit to Celsius\n",
        "def fahrenheit_to_celsius(fahrenheit):\n",
        "    return (fahrenheit - 32) * 5/9\n",
        "\n",
        "# Ask user for input\n",
        "choice = input(\"Convert (C)elsius to Fahrenheit or (F)ahrenheit to Celsius: \").upper()\n",
        "\n",
        "if choice == 'C':\n",
        "    celsius = float(input(\"Enter temperature in Celsius: \"))\n",
        "    print(celsius_to_fahrenheit(celsius), \"°F\")\n",
        "elif choice == 'F':\n",
        "    fahrenheit = float(input(\"Enter temperature in Fahrenheit: \"))\n",
        "    print(fahrenheit_to_celsius(fahrenheit), \"°C\")\n",
        "else:\n",
        "    print(\"Invalid choice\")\n",
        "\n"
      ]
    },
    {
      "cell_type": "code",
      "source": [
        "# Function to convert Celsius to Fahrenheit\n",
        "def celsius_to_fahrenheit(c):\n",
        "    return (c * 9/5) + 32\n",
        "\n",
        "# Taking user input\n",
        "celsius = float(input(\"Enter temperature in Celsius: \"))\n",
        "fahrenheit = celsius_to_fahrenheit(celsius)\n",
        "\n",
        "# Printing the result\n",
        "print(f\"{fahrenheit:.1f} °F\")\n",
        "\n"
      ],
      "metadata": {
        "colab": {
          "base_uri": "https://localhost:8080/"
        },
        "id": "0EPAnkXr489-",
        "outputId": "36911ab6-7d5f-44d8-8e76-fea7bf5a5073"
      },
      "execution_count": 1,
      "outputs": [
        {
          "output_type": "stream",
          "name": "stdout",
          "text": [
            "Enter temperature in Celsius: 33\n",
            "91.4 °F\n"
          ]
        }
      ]
    },
    {
      "cell_type": "code",
      "source": [
        "matrix\n"
      ],
      "metadata": {
        "id": "tXAkiGED49_K"
      },
      "execution_count": null,
      "outputs": []
    },
    {
      "cell_type": "code",
      "source": [],
      "metadata": {
        "id": "bA_giqyA4-CG"
      },
      "execution_count": null,
      "outputs": []
    },
    {
      "cell_type": "code",
      "source": [],
      "metadata": {
        "id": "xLCMHE2u4-FB"
      },
      "execution_count": null,
      "outputs": []
    },
    {
      "cell_type": "markdown",
      "metadata": {
        "id": "0pztUCChd_jn"
      },
      "source": [
        "# Calculating Factorial of a Number"
      ]
    },
    {
      "cell_type": "markdown",
      "metadata": {
        "id": "_rm20caZd_jo"
      },
      "source": [
        "# Input number\n",
        "num = int(input(\"Enter a number: \"))\n",
        "\n",
        "# Initialize factorial to 1\n",
        "factorial = 1\n",
        "\n",
        "# Loop to calculate factorial\n",
        "for i in range(1, num + 1):\n",
        "    factorial *= i\n",
        "\n",
        "print(f\"Factorial of {num} is {factorial}\")\n"
      ]
    },
    {
      "cell_type": "markdown",
      "metadata": {
        "id": "TDn9mIQId_jo"
      },
      "source": [
        "# Validating User Input with While Loop"
      ]
    },
    {
      "cell_type": "markdown",
      "metadata": {
        "id": "Lp8i_e8ld_jp"
      },
      "source": []
    },
    {
      "cell_type": "markdown",
      "metadata": {
        "id": "mbUjj9Emd_jp"
      },
      "source": [
        "# Finding the Sum of Digits of a Number"
      ]
    },
    {
      "cell_type": "markdown",
      "metadata": {
        "id": "Zdc7cY6md_jp"
      },
      "source": []
    },
    {
      "cell_type": "markdown",
      "metadata": {
        "id": "a_0c14Bhd_jq"
      },
      "source": [
        "# Checking for Palindrome Strings"
      ]
    },
    {
      "cell_type": "markdown",
      "metadata": {
        "id": "fLBkMzP7d_j9"
      },
      "source": []
    },
    {
      "cell_type": "markdown",
      "metadata": {
        "id": "ssP5EQ4pd_j-"
      },
      "source": [
        "# Creating a Dictionary from Two Lists"
      ]
    },
    {
      "cell_type": "markdown",
      "metadata": {
        "id": "IWEZ-OQFd_j_"
      },
      "source": []
    },
    {
      "cell_type": "markdown",
      "metadata": {
        "id": "i62DwUoUd_j_"
      },
      "source": [
        "# Simulating a Simple Password Check"
      ]
    },
    {
      "cell_type": "markdown",
      "metadata": {
        "id": "KBBAchPad_kK"
      },
      "source": []
    },
    {
      "cell_type": "markdown",
      "metadata": {
        "id": "9jK3nRVkd_kL"
      },
      "source": [
        "# Generating a Multiplication Table for a Given Number"
      ]
    },
    {
      "cell_type": "markdown",
      "metadata": {
        "id": "Zl8se7IZd_kL"
      },
      "source": []
    }
  ],
  "metadata": {
    "kernelspec": {
      "display_name": "base",
      "language": "python",
      "name": "python3"
    },
    "language_info": {
      "codemirror_mode": {
        "name": "ipython",
        "version": 3
      },
      "file_extension": ".py",
      "mimetype": "text/x-python",
      "name": "python",
      "nbconvert_exporter": "python",
      "pygments_lexer": "ipython3",
      "version": "3.11.7"
    },
    "colab": {
      "provenance": [],
      "include_colab_link": true
    }
  },
  "nbformat": 4,
  "nbformat_minor": 0
}